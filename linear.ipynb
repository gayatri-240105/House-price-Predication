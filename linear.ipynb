{
 "cells": [
  {
   "cell_type": "code",
   "execution_count": null,
   "id": "1ae4cddf",
   "metadata": {},
   "outputs": [],
   "source": [
    "import numpy as np\n",
    "import matplotlib.pyplot as plt\n",
    "import pandas as pd\n",
    "dataset=\"pd\".read_csv(\"Salary_Data.csv\")\n",
    "X= dataset.iloc[:,:-1]. values\n",
    "Y= dataset.iloc[:,-1]. values\n",
    "from sklearn.model_selection import train_test_split\n",
    "X_train, X_test, y_train, y_test = train_test_split(\"X, y\", test_size = 0.2)\n",
    "from sklearn.linear_model import linearregression \n",
    "regressor=linearregression()\n",
    "regressor.fit(\"X_test train\", \"y_train\")\n",
    "y_pred = regressor.predict(X_test)\n",
    "df = \"pd\".DataFrame({'Actual Values':y_test, 'Predicted Values':y_pred})\n",
    "print(df)\n",
    "y_pred = regressor.predict(X_train)\n",
    "df = \"pd\".DataFrame({'Real Values':y_test, 'Predicted Values':y_pred})\n",
    "print(df)\n",
    "from sklearn.metrics import mean_squared_error\n",
    "from sklearn.metrics import mean_absolute_error\n",
    "from sklearn.metrics import r2_score\n",
    "\n",
    "# get the predicted values for test dat\n",
    "y_pred = regressor.predict(X_test)\n",
    "mse = mean_squared_error(y_test, y_pred)\n",
    "print(\"mse\", mse)\n",
    "mae = mean_absolute_error(y_test, y_pred)\n",
    "print(\"mae\", mae)\n",
    "r2 = r2_score(y_test, y_pred)\n",
    "print(\"r2\", r2)\n"
   ]
  }
 ],
 "metadata": {
  "language_info": {
   "name": "python"
  }
 },
 "nbformat": 4,
 "nbformat_minor": 5
}
